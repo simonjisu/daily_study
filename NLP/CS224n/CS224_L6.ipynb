{
 "cells": [
  {
   "cell_type": "markdown",
   "metadata": {},
   "source": [
    "# Dependency Parsing"
   ]
  },
  {
   "cell_type": "markdown",
   "metadata": {},
   "source": [
    "* PPT 는 lecture 7 임"
   ]
  },
  {
   "cell_type": "markdown",
   "metadata": {},
   "source": [
    "## Syntactic Structure: Constituency and Dependency\n",
    "\n",
    "### Two views of linguistic structure: \n",
    "Constituency = phrase structure grammar = context-free grammars (CFGs)\n",
    "\n",
    "**Phrase structure** organizes words into nested constituents. 구조적인 문법으로 단어들을 구/절 로 만들수 있음\n",
    "\n",
    "* Basic unit: words \n",
    "    * the, cat, cuddly, by, door\n",
    "    * Det, N, adj, P, N\n",
    "* Words combine into phrases\n",
    "    * the cuddly cat, by the door\n",
    "    * NP -> Det+adj+N, PP -> P NP\n",
    "* Phrases can combine into bigger phrases\n",
    "    * the cuddly cat by the door\n",
    "    * NP -> NP PP\n",
    "    \n",
    "P: preposition, Det: Determiners, NP: Noun phrase, PP: preposition phrase\n",
    "\n",
    "Dependency structure shows which words depend on (modify or are arguments of) which other words.\n",
    "* Determiners, adjectives, and (sometimes) verbs modify nouns\n",
    "* We will also treat prepositions as modifying nouns\n",
    "* The prepositional phrases are modifying the main noun phrase\n",
    "* The main noun phrase is an argument of \"look\""
   ]
  },
  {
   "cell_type": "markdown",
   "metadata": {},
   "source": [
    "![](./figs/L6_dependency_parsing.png)"
   ]
  },
  {
   "cell_type": "markdown",
   "metadata": {},
   "source": [
    "PP attachment ambiguities in dependency structure:\n",
    "\n",
    "애매함이 존재: 기존의 말하고자 하는 문장은 우주의 위성으로부터 고래의 움직임을 포착해서 공부한다는 것이었는데. 아래 문장들은 (분홍색) 우주에서 온 고래를 연구한다는 건지, (녹색)고래를 연구하는데 우주로 부터 오는 정보를 통해 연구한다는 건지 애매함...\n"
   ]
  },
  {
   "cell_type": "markdown",
   "metadata": {},
   "source": [
    "![](./figs/L6_ambiguous.png)"
   ]
  },
  {
   "cell_type": "markdown",
   "metadata": {},
   "source": [
    "### The rise of annotated data: Universal Dependencies treebanks\n",
    "\n",
    "But a treebank gives us many things\n",
    "\n",
    "* Reusability of the labor\n",
    "    * Many parsers, part-of-speech taggers, etc. can be built on it\n",
    "    * Valuable resource for linguistics\n",
    "* Broad coverage, not just a few intuitions\n",
    "* Frequencies and distributional information\n",
    "* A way to evaluate systems"
   ]
  },
  {
   "cell_type": "markdown",
   "metadata": {},
   "source": [
    "## Dependency Grammar and Dependency Structure"
   ]
  },
  {
   "cell_type": "markdown",
   "metadata": {},
   "source": [
    "Dependency syntax postulates that syntactic structure consists of relations between lexical items, normally binary asymmetric relations (\"arrows\") called **dependencies**"
   ]
  },
  {
   "cell_type": "markdown",
   "metadata": {
    "collapsed": true
   },
   "source": [
    "![](./figs/L6_dependency.png)"
   ]
  },
  {
   "cell_type": "markdown",
   "metadata": {},
   "source": [
    "* 화살표 방향: Head to dependency\n",
    "* fake ROOT 를 더해서 문장의 전체의 시작을 나타냄\n",
    "\n",
    "그리는 방법:\n",
    "\n",
    "Usually some constraints:\n",
    "\n",
    "* Only one word is a dependent of ROOT\n",
    "* Don’t want cycles A $\\rightarrow$ B, B $\\rightarrow$ A"
   ]
  },
  {
   "cell_type": "markdown",
   "metadata": {},
   "source": [
    "### Methods of Dependency Parsing\n",
    "1. Dynamic programming\n",
    "2. Graph algorithms\n",
    "3. Constraint Satisfaction\n",
    "4. \"Transition-based parsing\" or \"deterministic dependency parsing\""
   ]
  },
  {
   "cell_type": "markdown",
   "metadata": {},
   "source": [
    "![](./figs/L6_Arc_parser.png)"
   ]
  },
  {
   "cell_type": "markdown",
   "metadata": {},
   "source": [
    "![](./figs/L6_example_parser.png)"
   ]
  },
  {
   "cell_type": "markdown",
   "metadata": {},
   "source": [
    "* How  could we choose the next action?\n",
    "* Each action is predicted by a discriminative classifier (eg. SVM or logistic regression classifier) over each legal move\n",
    "    * Features: top of stack word, POS; first in buffer word, POS; etc.\n",
    "* There is NO search (in the simplest form)\n",
    "    * But you can profitably do a beam search if you wish (slower but better)\n",
    "* It provides VERY fast linear time parsing\n",
    "* The model’s accuracy is only slightly below the best dependency parsers"
   ]
  },
  {
   "cell_type": "markdown",
   "metadata": {},
   "source": [
    "## Why train a neural dependency parser? Indicator Features Revisited\n",
    "\n",
    "* Problem 1: sparse\n",
    "* Problem 2: incomplete\n",
    "* Problem 3: expensive computation\n",
    "\n",
    "More than 95% of parsing time is consumed by feature computation"
   ]
  },
  {
   "cell_type": "markdown",
   "metadata": {},
   "source": [
    "다른 자료 많이 참고 할것 "
   ]
  },
  {
   "cell_type": "code",
   "execution_count": null,
   "metadata": {
    "collapsed": true
   },
   "outputs": [],
   "source": []
  }
 ],
 "metadata": {
  "kernelspec": {
   "display_name": "Python [conda env:anaconda]",
   "language": "python",
   "name": "conda-env-anaconda-py"
  },
  "language_info": {
   "codemirror_mode": {
    "name": "ipython",
    "version": 3
   },
   "file_extension": ".py",
   "mimetype": "text/x-python",
   "name": "python",
   "nbconvert_exporter": "python",
   "pygments_lexer": "ipython3",
   "version": "3.6.0"
  }
 },
 "nbformat": 4,
 "nbformat_minor": 2
}
