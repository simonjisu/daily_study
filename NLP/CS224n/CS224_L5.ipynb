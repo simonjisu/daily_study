{
 "cells": [
  {
   "cell_type": "markdown",
   "metadata": {},
   "source": [
    "# Backpropagation"
   ]
  },
  {
   "cell_type": "markdown",
   "metadata": {},
   "source": [
    "let $\\delta^{(k)} = \\dfrac{\\partial F}{\\partial a^{(k)} } \\odot \\dfrac{\\partial a^{(k)} }{\\partial z^{(k)} }$\n",
    "\n",
    "so, $\\dfrac{\\partial F}{\\partial W^{(k)} } = \\dfrac{\\partial F}{\\partial a^{(k)} } \\dfrac{\\partial a^{(k)} }{\\partial z^{(k)} } \\dfrac{\\partial z^{(k)} }{\\partial W^{(k)} } = \\delta^{(k)} {a^{(k-1)} }^T$"
   ]
  },
  {
   "cell_type": "markdown",
   "metadata": {},
   "source": [
    "1. Define Task\n",
    "2. Define Dataset\n",
    "    * Search for academic datasets\n",
    "    * Define your own\n",
    "3. Define your metric\n",
    "    * 데이터 분포 체크할것 (분류경우 각 분류의 데이터 set 수 체크, 불균형일 경우 F1 metric 쓰기)\n",
    "4. Split your dataset\n",
    "    * train / dev / test\n",
    "    * overlap 주의\n",
    "5. Establish a baseline\n",
    "    * Implement the simplest model first\n",
    "    * compute metrics on train and dev\n",
    "    * analyze errors\n",
    "6. Implement existing neural net model\n",
    "    * compute metrics on train and dev\n",
    "    * analyze outputs and errors\n",
    "7. Always be close to your data!\n",
    "    * visualize the dataset\n",
    "    * collect summary statistics\n",
    "    * analyze how different hyperparameters affect performance\n",
    "8. Try out different model variants"
   ]
  },
  {
   "cell_type": "code",
   "execution_count": null,
   "metadata": {
    "collapsed": true
   },
   "outputs": [],
   "source": []
  }
 ],
 "metadata": {
  "kernelspec": {
   "display_name": "Python [conda root]",
   "language": "python",
   "name": "conda-root-py"
  },
  "language_info": {
   "codemirror_mode": {
    "name": "ipython",
    "version": 3
   },
   "file_extension": ".py",
   "mimetype": "text/x-python",
   "name": "python",
   "nbconvert_exporter": "python",
   "pygments_lexer": "ipython3",
   "version": "3.6.0"
  }
 },
 "nbformat": 4,
 "nbformat_minor": 2
}
