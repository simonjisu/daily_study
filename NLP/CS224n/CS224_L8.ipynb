{
 "cells": [
  {
   "cell_type": "markdown",
   "metadata": {},
   "source": [
    "# Language Modeling"
   ]
  },
  {
   "cell_type": "markdown",
   "metadata": {},
   "source": [
    "**Language Modeling** is the task of predicting what word comes next, it computes a probability for a sequence of words.\n",
    "\n",
    "* word ordering:\n",
    "    * p(the cat is small) > p(small the is cat)\n",
    "* word choice:\n",
    "    * p(walking home after school) > p(walking house after school)\n",
    "    \n",
    "More formally: given a sequence of words $x^{(1)}, x^{(2)}, \\cdots ,x^{(t)}$,compute the probability distribution of the next word $x^{(t+1)}$:\n",
    "\n",
    "$$P(x^{(t+1)} = w_j \\vert x^{(t)},\\cdots ,x^{(1)})$$\n",
    "\n",
    "where $w_j$ is in the vocaburary $V = \\{ w_1, \\cdots , w_{\\vert V \\vert} \\}$\n",
    "\n",
    "* An incorrect but necessary Markov assumption!\n",
    "\n",
    "$$p(w_1, \\cdots , w_m) = \\prod_{i=1}^{m} P(w_i \\vert w_1, \\cdots, w_{i-1}) = \\prod_{i=1}^{m} P(w_i \\vert w_{i-(n-1)}, \\cdots, w_{i-1})$$\n"
   ]
  },
  {
   "cell_type": "code",
   "execution_count": null,
   "metadata": {
    "collapsed": true
   },
   "outputs": [],
   "source": []
  }
 ],
 "metadata": {
  "kernelspec": {
   "display_name": "Python [conda env:anaconda]",
   "language": "python",
   "name": "conda-env-anaconda-py"
  },
  "language_info": {
   "codemirror_mode": {
    "name": "ipython",
    "version": 3
   },
   "file_extension": ".py",
   "mimetype": "text/x-python",
   "name": "python",
   "nbconvert_exporter": "python",
   "pygments_lexer": "ipython3",
   "version": "3.6.0"
  }
 },
 "nbformat": 4,
 "nbformat_minor": 2
}
