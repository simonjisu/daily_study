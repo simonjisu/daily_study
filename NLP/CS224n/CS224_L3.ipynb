{
 "cells": [
  {
   "cell_type": "markdown",
   "metadata": {},
   "source": [
    "## Problem of navie softmax model\n",
    "\n",
    "The gradient of word vectors $\\triangledown_\\theta J_t(\\theta) \\in \\Bbb{R}^{2dV}$ may be very sparse, because for each window we have at most **2m+1** words to update, but whole vocab($V$) is very a large number.\n",
    "\n",
    "* m: window size\n",
    "\n",
    "많은 양의 단어에 비해 업데이트 하는 파라미터수는 적기 때문에 gradient matrix 가 굉장히 sparse 해질 수 있음. Adam 같은 알고리즘은 sparse 한 matrix 에 취약함. [참고](https://simonjisu.github.io/deeplearning/2018/01/13/numpywithnn_5.html)\n",
    "\n",
    "We may as well only update the word vectors that actually appear! 실제로 등장하는 단어만 업데이트 하자!\n",
    "\n",
    "** Solution: **\n",
    "\n",
    "1. only update certain columns of full embedding matrices $U$ & $V$\n",
    "2. keep around a hash for word vector.\n",
    "\n",
    "paper: Distributed representaions of Words and Phrases and their Compositionality (Mikolov et al. 2013) - [link](https://arxiv.org/abs/1310.4546)"
   ]
  },
  {
   "cell_type": "markdown",
   "metadata": {},
   "source": [
    "## Negative Sampling\n",
    "\n",
    "word2vec Explained: deriving Mikolov et al.'s negative-sampling word-embedding method - [link](https://arxiv.org/abs/1402.3722)\n",
    "\n",
    "Main idea: train binary logistic regressions for a true pair (center word and word in its context window) versus a couple of noise pairs (the center word paired with a random word)\n",
    "\n",
    "**Maximize Overall objective function:**\n",
    "\n",
    "$$\\begin{aligned}\n",
    "J(\\theta) &= \\dfrac{1}{T}\\sum_{t=1}^{T} J_t(\\theta)\\\\\n",
    "J(\\theta) &= \\log \\sigma(u_o^T v_c) + \\sum_{i=1}^{k} \\mathbb{E}_{j \\tilde{} P(w)} [\\log \\sigma(-u_j^T v_c)]\n",
    "\\end{aligned}$$\n",
    "\n",
    "* $T$: total num of words\n",
    "* $\\sigma$: sigmoid function\n",
    "* $P(w) = {U(w)^{3/4}} / {Z}$: unigram distribution U(w) raised to the 3/4 power\n",
    "    * The pwer makes less frequent words be sampled mor often\n",
    "\n",
    "     \n",
    "So we maximize the probability of two words co-occurring in the first $\\log \\sigma(u_o^T v_c)$\n",
    "\n",
    "And, sub sample a couple of the words from the corpus (j ~ P(w)), minimize their probability of co-occurring"
   ]
  },
  {
   "cell_type": "markdown",
   "metadata": {},
   "source": [
    "---"
   ]
  },
  {
   "cell_type": "markdown",
   "metadata": {},
   "source": [
    "### \"word2vec Explained\" 논문 설명(notaion 이 조금 다르니 주의):\n",
    "\n",
    "출발점: (w, c) 세트가 정말로 corpus data로 부터 왔는가? \n",
    "* 여기서 **w = word, c = context** 다.\n",
    "* 정의: \n",
    "    * $P(D = 1|\\ w, c)$ : 단어 (w, c)가 corpus data로부터 왔을 확률\n",
    "    * $P(D = 0|\\ w, c) = 1 - P(D = 1|\\ w, c)$ : 단어 (w, c)가 corpus data로부터 오지 않았을 확률\n",
    "  \n",
    "따라서, 우리의 목적은 확률$P(D = 1|\\ w, c)$를 최대화하는 parameter $\\theta$를 찾는 것이기 때문에 아래와 같은 식을 세울 수 있다.\n",
    "\n",
    "$$\\begin{aligned} &\\arg \\underset{\\theta}{\\max} \\underset{(w,c) \\in D}{\\prod} P(D=1|\\ w,c;\\theta) \\\\\n",
    "= &\\arg \\underset{\\theta}{\\max} \\log \\underset{(w,c) \\in D}{\\prod} P(D=1|\\ w,c;\\theta) \\\\\n",
    "= &\\arg \\underset{\\theta}{\\max} \\underset{(w,c) \\in D}{\\sum} \\log P(D=1|\\ w,c;\\theta)\n",
    "\\end{aligned}$$ \n",
    "\n",
    "파라미터 $\\theta$ 는 단어들의 벡터라고 생각할 수 있다. 즉, 위의 식을 만족하는 어떤 최적의 단어 벡터를 찾는것이다.\n",
    "\n",
    "또한, 확률 $P(D=1|\\ w,c;\\theta)$ 은 sigmoid로 아래와 같이 정의 할 수 있다.\n",
    "\n",
    "$$P(D=1|\\ w,c;\\theta) = \\dfrac{1}{1+e^{-v_c v_w}}$$\n",
    "\n",
    "따라서 우리의 목적은 아래와 같다.\n",
    "\n",
    "$$\\arg \\underset{\\theta}{\\max} \\underset{(w,c) \\in D}{\\sum} \\log \\dfrac{1}{1+e^{-v_c v_w} }$$\n",
    "\n",
    "그러나 우리의 목적 함수는 매 (w, c)마다 $P(D=1|\\ w,c;\\theta)=1$ 를 만족하는 trivial solution이 존재한다. $v_c = v_w$ 이며, $\\forall v_c,\\ v_w$ 에 대해 $v_c \\cdot v_w = K$ 를 만족하는 $\\theta$ (보통 $K$ 가 40이 넘어가면 위 방정식의 값이 0에 가까워짐) 는 모든 값을 똑같이 0으로 만들어 버리기 때문에, 같은 값을 갖지 못하게 하는 매커니즘이 필요하다. ($\\theta$ 에 뭘 넣어도 0이 되면 최대값을 찾는 의미가 없어짐)\n",
    "\n",
    "하나의 방법으로 랜덤 (w, c) 조합을 생성하는 집합 $D'$를 만들어 corpus data로부터 올 확률 $P(D=1|\\ w,c;\\theta)$ 를 낮게 강제하는 것이다. 즉, $D'$ 에서 생성된 (w, c) 조합은 corpus data 로부터 오지 않게 하는 확률 $P(D=0|\\ w,c;\\theta)$ 을 최대화 하는 것.\n",
    "\n",
    "$$\\begin{aligned} \n",
    "& \\arg \\underset{\\theta}{\\max} \\underset{(w,c) \\in D}{\\prod} P(D=1|\\ w,c;\\theta) \\underset{(w,c) \\in D'}{\\prod} P(D=0|\\ w,c;\\theta) \\\\\n",
    "&= \\arg \\underset{\\theta}{\\max} \\underset{(w,c) \\in D}{\\prod} P(D=1|\\ w,c;\\theta) \\underset{(w,c) \\in D'}{\\prod} \\big(1- P(D=1|\\ w,c;\\theta) \\big) \\\\\n",
    "&= \\arg \\underset{\\theta}{\\max} \\underset{(w,c) \\in D}{\\sum} \\log P(D=1|\\ w,c;\\theta) + \\underset{(w,c) \\in D'}{\\sum} \\log \\big(1- P(D=1|\\ w,c;\\theta) \\big) \\\\\n",
    "&= \\arg \\underset{\\theta}{\\max} \\underset{(w,c) \\in D}{\\sum} \\log \\dfrac{1}{1+e^{-v_c v_w} } + \\underset{(w,c) \\in D'}{\\sum} \\log \\big(1- \\dfrac{1}{1+e^{-v_c v_w} } \\big) \\\\\n",
    "&= \\arg \\underset{\\theta}{\\max} \\underset{(w,c) \\in D}{\\sum} \\log \\dfrac{1}{1+e^{-v_c v_w} } + \\underset{(w,c) \\in D'}{\\sum} \\log \\dfrac{1}{1+e^{v_c v_w} }\n",
    "\\end{aligned}$$\n",
    "\n",
    "Let $\\sigma(x) = \\dfrac{1}{1+e^{-x} }$, Then,\n",
    "\n",
    "$$\\begin{aligned} \n",
    "& \\arg \\underset{\\theta}{\\max} \\underset{(w,c) \\in D}{\\sum} \\log \\dfrac{1}{1+e^{-v_c v_w} } + \\underset{(w,c) \\in D'}{\\sum} \\log \\dfrac{1}{1+e^{v_c v_w} } \\\\\n",
    "&= \\arg \\underset{\\theta}{\\max} \\underset{(w,c) \\in D}{\\sum} \\log \\sigma(v_c v_w) + \\underset{(w,c) \\in D'}{\\sum} \\log \\sigma(- v_c v_w)\n",
    "\\end{aligned}$$\n",
    "\n",
    "This equation is similar to equation (4) in Mikolov et al (위에 링크).\n",
    "\n",
    "$$\\log \\sigma(u_c^T v_w) + \\sum_{i=1}^{k} \\mathbb{E}_{j \\tilde{} P(w)} [\\log \\sigma(-u_j^T v_w)]$$\n",
    "\n",
    "다른 점이라면, 우리가 만든 식에서는 전체 corpus ($D \\cup D'$) 을 포함하지만, Mikolov 논문의 식은 D 에 속하는 (w, c) 조합 하나와 k 개의 다른 (w, c_j) 의 조합을 들었다는 것이다. 구체적으로, k 번의 negative sampling 에서 Mikolov 는 $D'$ 를 $k \\times D$ 보다 크게 설정했고, k개의 샘플 $(w, c_1), (w, c_2), \\cdots, (w, c_k)$ 에 대해서 $c_j$ 는 **unigram distribution** 에 **3/4** 승으로 부터 도출된다. 이는 아래의 분포에서 (w, c) 조합을 추출 하는 것과 같다.\n",
    "\n",
    "$$p_{words}(w) = \\dfrac{p_{contexts} (c)^{3/4} }{Z}$$\n",
    "\n",
    "* $p_{words}(w)$, $p_{contexts} (c)$ 는 각각 words and contexts 의 unigram distribution 이다.\n",
    "* $Z$ 는 normalization constant\n",
    "\n",
    "Mikolov 논문에서는 context는 하나의 단어이기 때문에 $p_{words}(w) = p_{contexts} (c) = \\dfrac{count(x)}{ | text | }$\n",
    "\n",
    "#### 참고\n",
    "* trivial solution: 모든 해가 0 \n",
    "* non-trivial solution: 무수히 많은 해가 있음(보통 하나가 free variable)\n",
    "* homogenous, trival solution 개념 설명: https://www.youtube.com/watch?v=JlJWyWJARRU\n",
    "\n",
    "\n"
   ]
  },
  {
   "cell_type": "markdown",
   "metadata": {
    "collapsed": true
   },
   "source": [
    "---"
   ]
  },
  {
   "cell_type": "markdown",
   "metadata": {},
   "source": [
    "여태까지 하려던 것: captures cooccurrence of words by one at a time\n",
    "\n",
    "But, Why not capture cooccurrence counts directly?\n",
    "\n",
    "**2 Options**\n",
    "* window: similar to word2vec, captrues both syntactic (POS) and semantic information\n",
    "* word-document co-occurrence matrix: give general topics, leading to \"Latent Semantic Analysis\""
   ]
  },
  {
   "cell_type": "markdown",
   "metadata": {},
   "source": [
    "## Example: Window based co-occurrence matrix\n",
    "\n",
    "* Window length = 1 \n",
    "* Symmetric (irrelevant whether left or right, can be unsymmetric but in this case yes)\n",
    "* Example:\n",
    "    * I like deep learning.\n",
    "    * I like NLP.\n",
    "    * I enjoy flying."
   ]
  },
  {
   "cell_type": "markdown",
   "metadata": {},
   "source": [
    "|counts| I | like | enjoy | deep | learning | NLP | flying | . |\n",
    "|--|--|--|--|--|--|--|--|--|\n",
    "| I| 0 | 2 | 1 | 0 | 0 | 0 | 0 | 0 |\n",
    "|like| 2 | 0 | 0 | 1 | 0 | 1 | 0 | 0 |\n",
    "|enjoy| 1 | 0 | 0 | 0 | 0 | 0 | 1 | 0 |\n",
    "|deep| 0 | 1 | 0 | 0 | 1 | 0 | 0 | 0 |\n",
    "|learning| 0 | 0 | 0 | 1 | 0 | 0 | 0 | 1 |\n",
    "|NLP| 0 | 1 | 0 | 0 | 0 | 0 | 0 | 1 |\n",
    "|flying| 0 | 0 | 1 | 0 | 0 | 0 | 0 | 1 |\n",
    "|.| 0 | 0 | 0 | 0 | 1 | 1 | 1 | 0 |"
   ]
  },
  {
   "cell_type": "code",
   "execution_count": 1,
   "metadata": {
    "collapsed": false
   },
   "outputs": [
    {
     "name": "stdout",
     "output_type": "stream",
     "text": [
      "['enjoy', 'deep', 'I', 'like', 'NLP', 'learning', '.', 'flying']\n"
     ]
    }
   ],
   "source": [
    "import pandas as pd\n",
    "import numpy as np\n",
    "from collections import deque, Counter\n",
    "from itertools import islice\n",
    "from scipy.sparse import coo_matrix\n",
    "\n",
    "sentences = ['I like deep learning .', 'I like NLP .', 'I enjoy flying .']\n",
    "tokens = [s.split() for s in sentences]\n",
    "vocab = list(set([w for s in tokens for w in s]))\n",
    "print(vocab)"
   ]
  },
  {
   "cell_type": "code",
   "execution_count": 2,
   "metadata": {
    "collapsed": false
   },
   "outputs": [],
   "source": [
    "flatten = lambda t: [tuple(j) for i in t for j in i]\n",
    "\n",
    "def get_cooccur_list(sentence, window):\n",
    "    s_len = len(sentence)\n",
    "    ngram_list = [deque(islice(sentence, i), window+1) for i in range(s_len+1)][2:]\n",
    "    return ngram_list"
   ]
  },
  {
   "cell_type": "code",
   "execution_count": 3,
   "metadata": {
    "collapsed": false
   },
   "outputs": [],
   "source": [
    "vocab = ['I', 'like', 'enjoy', 'deep', 'learning', 'NLP', 'flying', '.']\n",
    "vocab2idx = {w: i for i, w in enumerate(vocab)}\n",
    "tokens_idx = [[vocab2idx.get(w) for w in s] for s in tokens] \n",
    "window = 1\n",
    "co_occurs = [get_cooccur_list(s, window) for s in tokens_idx]\n",
    "d = Counter()\n",
    "d.update(flatten(co_occurs))\n",
    "row, col, data = list(zip(*[[r, c, v] for (r, c), v in d.items()]))\n",
    "temp = coo_matrix((data, (row, col)), shape=(len(vocab), len(vocab))).toarray()\n",
    "co_mat = temp.T + temp"
   ]
  },
  {
   "cell_type": "code",
   "execution_count": 4,
   "metadata": {
    "collapsed": false
   },
   "outputs": [
    {
     "data": {
      "text/html": [
       "<div>\n",
       "<style scoped>\n",
       "    .dataframe tbody tr th:only-of-type {\n",
       "        vertical-align: middle;\n",
       "    }\n",
       "\n",
       "    .dataframe tbody tr th {\n",
       "        vertical-align: top;\n",
       "    }\n",
       "\n",
       "    .dataframe thead th {\n",
       "        text-align: right;\n",
       "    }\n",
       "</style>\n",
       "<table border=\"1\" class=\"dataframe\">\n",
       "  <thead>\n",
       "    <tr style=\"text-align: right;\">\n",
       "      <th></th>\n",
       "      <th>I</th>\n",
       "      <th>like</th>\n",
       "      <th>enjoy</th>\n",
       "      <th>deep</th>\n",
       "      <th>learning</th>\n",
       "      <th>NLP</th>\n",
       "      <th>flying</th>\n",
       "      <th>.</th>\n",
       "    </tr>\n",
       "  </thead>\n",
       "  <tbody>\n",
       "    <tr>\n",
       "      <th>I</th>\n",
       "      <td>0</td>\n",
       "      <td>2</td>\n",
       "      <td>1</td>\n",
       "      <td>0</td>\n",
       "      <td>0</td>\n",
       "      <td>0</td>\n",
       "      <td>0</td>\n",
       "      <td>0</td>\n",
       "    </tr>\n",
       "    <tr>\n",
       "      <th>like</th>\n",
       "      <td>2</td>\n",
       "      <td>0</td>\n",
       "      <td>0</td>\n",
       "      <td>1</td>\n",
       "      <td>0</td>\n",
       "      <td>1</td>\n",
       "      <td>0</td>\n",
       "      <td>0</td>\n",
       "    </tr>\n",
       "    <tr>\n",
       "      <th>enjoy</th>\n",
       "      <td>1</td>\n",
       "      <td>0</td>\n",
       "      <td>0</td>\n",
       "      <td>0</td>\n",
       "      <td>0</td>\n",
       "      <td>0</td>\n",
       "      <td>1</td>\n",
       "      <td>0</td>\n",
       "    </tr>\n",
       "    <tr>\n",
       "      <th>deep</th>\n",
       "      <td>0</td>\n",
       "      <td>1</td>\n",
       "      <td>0</td>\n",
       "      <td>0</td>\n",
       "      <td>1</td>\n",
       "      <td>0</td>\n",
       "      <td>0</td>\n",
       "      <td>0</td>\n",
       "    </tr>\n",
       "    <tr>\n",
       "      <th>learning</th>\n",
       "      <td>0</td>\n",
       "      <td>0</td>\n",
       "      <td>0</td>\n",
       "      <td>1</td>\n",
       "      <td>0</td>\n",
       "      <td>0</td>\n",
       "      <td>0</td>\n",
       "      <td>1</td>\n",
       "    </tr>\n",
       "    <tr>\n",
       "      <th>NLP</th>\n",
       "      <td>0</td>\n",
       "      <td>1</td>\n",
       "      <td>0</td>\n",
       "      <td>0</td>\n",
       "      <td>0</td>\n",
       "      <td>0</td>\n",
       "      <td>0</td>\n",
       "      <td>1</td>\n",
       "    </tr>\n",
       "    <tr>\n",
       "      <th>flying</th>\n",
       "      <td>0</td>\n",
       "      <td>0</td>\n",
       "      <td>1</td>\n",
       "      <td>0</td>\n",
       "      <td>0</td>\n",
       "      <td>0</td>\n",
       "      <td>0</td>\n",
       "      <td>1</td>\n",
       "    </tr>\n",
       "    <tr>\n",
       "      <th>.</th>\n",
       "      <td>0</td>\n",
       "      <td>0</td>\n",
       "      <td>0</td>\n",
       "      <td>0</td>\n",
       "      <td>1</td>\n",
       "      <td>1</td>\n",
       "      <td>1</td>\n",
       "      <td>0</td>\n",
       "    </tr>\n",
       "  </tbody>\n",
       "</table>\n",
       "</div>"
      ],
      "text/plain": [
       "          I  like  enjoy  deep  learning  NLP  flying  .\n",
       "I         0     2      1     0         0    0       0  0\n",
       "like      2     0      0     1         0    1       0  0\n",
       "enjoy     1     0      0     0         0    0       1  0\n",
       "deep      0     1      0     0         1    0       0  0\n",
       "learning  0     0      0     1         0    0       0  1\n",
       "NLP       0     1      0     0         0    0       0  1\n",
       "flying    0     0      1     0         0    0       0  1\n",
       ".         0     0      0     0         1    1       1  0"
      ]
     },
     "execution_count": 4,
     "metadata": {},
     "output_type": "execute_result"
    }
   ],
   "source": [
    "pd.DataFrame(co_mat, index=vocab, columns=vocab)"
   ]
  },
  {
   "cell_type": "markdown",
   "metadata": {},
   "source": [
    "## Problems with simple co-occurrence vectors:\n",
    "* Increase in size with vocabulary\n",
    "* Very high dimensional: require a lot of storage\n",
    "* Subsequent classification models have sparsity issues $\\rightarrow$ models are less robust"
   ]
  },
  {
   "cell_type": "markdown",
   "metadata": {},
   "source": [
    "## Solutions: Low dimensional vectors\n",
    "Idea: store \"most\" of the important information in a fixed, small number of dimensions - a dense vector\n",
    "\n",
    "How to reduce dimentionality??\n",
    "\n",
    "### Method 1: SVD"
   ]
  },
  {
   "cell_type": "code",
   "execution_count": 5,
   "metadata": {
    "collapsed": true
   },
   "outputs": [],
   "source": [
    "U, s, Vh = np.linalg.svd(co_mat, full_matrices=False)"
   ]
  },
  {
   "cell_type": "code",
   "execution_count": 6,
   "metadata": {
    "collapsed": false
   },
   "outputs": [
    {
     "data": {
      "image/png": "[encoded data removed]",
      "text/plain": [
       "<matplotlib.figure.Figure at 0x1c1076b470>"
      ]
     },
     "metadata": {},
     "output_type": "display_data"
    }
   ],
   "source": [
    "fig, ax = plt.subplots(figsize=(5, 5), dpi=100)\n",
    "for i in range(len(vocab)):\n",
    "    ax.annotate(vocab[i], (U[i, 0], U[i, 1]))\n",
    "ax.grid(False)\n",
    "ax.set_xlim(-1.2, 0.7)\n",
    "ax.set_ylim(-1, 1)\n",
    "ax.set_title('reduce dimentionality using SVD', fontsize=15)\n",
    "plt.show()"
   ]
  },
  {
   "cell_type": "markdown",
   "metadata": {},
   "source": [
    "### Hacks to X\n",
    "* Problem: function words (the, he, has) are too frequent $\\rightarrow$ syntax has too much impact\n",
    "    * Solution: fixes count or ignore all\n",
    "* Ramped windows that count closer words more\n",
    "* Use Pearson correlations instead of counts, then set negative values to 0\n",
    "\n",
    "\n",
    "An Improved Model of Semantic Similarity Based on Lexical Co-Occurrence Rohde et al. 2005"
   ]
  },
  {
   "cell_type": "markdown",
   "metadata": {},
   "source": [
    "### Problems with SVD\n",
    "Computational cost scales quadratically for n x m matrix: $O(mn^2)$ flops (when n < m) \n",
    "\n",
    "$\\rightarrow$ Bad for millions of words or documents"
   ]
  },
  {
   "cell_type": "markdown",
   "metadata": {},
   "source": [
    "## Count based vs Direct prediction\n",
    "\n",
    "|Count based |Direct prediction|\n",
    "|--|--|\n",
    "|LSA, HAL (Lund & Burgess), <br> COALS, Hellinger-PCA (Rohde et al, Lebret & Collobert) | Skip-gram/CBOW (Mikolov et al) <br> NNLM, HLBL, RNN (Bengio et al; Collobert & Weston; Huang et al; Mnih & Hinton) |\n",
    "|(G)Fast training <br> (G)Efficient usage of statistics <br> (B)Primarily used to capture wordsimilarity <br>  (B)Disproportionate importance given to large counts | (B)Scale with corpus size <br> (B)Inefficient usage of statistics <br> (G)Generate improved performance on other tasks <br> (G)Can capture complex patterns beyond word similarity|"
   ]
  },
  {
   "cell_type": "markdown",
   "metadata": {},
   "source": [
    "# GloVe"
   ]
  },
  {
   "cell_type": "markdown",
   "metadata": {},
   "source": [
    "$$J(\\theta) = \\dfrac{1}{2} \\sum_{i,j=1}^{W} f(P_{ij})(u_i^T v_j - \\log P_{ij})^2$$\n",
    "\n",
    "Good Points(By Pennington, Socher, Manning (2014))\n",
    "* Fast Training\n",
    "* Scalable to huge corpora\n",
    "* Good Performance even with small corpus and small vectors\n",
    "\n",
    "Paper: [GloVe: Global Vectors for Word Representation](https://www.aclweb.org/anthology/D14-1162)"
   ]
  },
  {
   "cell_type": "markdown",
   "metadata": {},
   "source": [
    "---\n",
    "\n",
    "### Glove Paper explain\n",
    "\n",
    "**GloVe:** Global Vectors, because the global corpus statistics are captured directly by the model\n",
    "\n",
    "Define notation:\n",
    "* $X$: matrix of word-word co-occurrence counts\n",
    "* $X_{ij}$: the number of times that word $j$ occurs in the context word $i$\n",
    "* $X_i = \\sum_k X_{ik}$: the number of times any word appears in the context of word $i$\n",
    "* $P_{ij} = P(j | i) = X_{ij} / X_i$: probability that word $j$ appear in the context word $i$\n"
   ]
  },
  {
   "cell_type": "markdown",
   "metadata": {},
   "source": [
    "Example:\n",
    "* I like deep learning.\n",
    "* I like NLP.\n",
    "* I enjoy flying."
   ]
  },
  {
   "cell_type": "code",
   "execution_count": 42,
   "metadata": {
    "collapsed": false
   },
   "outputs": [],
   "source": [
    "data = (co_mat / co_mat.sum(axis=1).reshape(-1, 1))\n",
    "cols = ['k='+v for v in vocab]\n",
    "rows = ['p(k|{})'.format(v) for v in vocab]\n",
    "P = pd.DataFrame(data, index=rows, columns=cols) + 1e-10"
   ]
  },
  {
   "cell_type": "code",
   "execution_count": 43,
   "metadata": {
    "collapsed": false
   },
   "outputs": [
    {
     "data": {
      "text/html": [
       "<div>\n",
       "<style scoped>\n",
       "    .dataframe tbody tr th:only-of-type {\n",
       "        vertical-align: middle;\n",
       "    }\n",
       "\n",
       "    .dataframe tbody tr th {\n",
       "        vertical-align: top;\n",
       "    }\n",
       "\n",
       "    .dataframe thead th {\n",
       "        text-align: right;\n",
       "    }\n",
       "</style>\n",
       "<table border=\"1\" class=\"dataframe\">\n",
       "  <thead>\n",
       "    <tr style=\"text-align: right;\">\n",
       "      <th></th>\n",
       "      <th>k=I</th>\n",
       "      <th>k=like</th>\n",
       "      <th>k=enjoy</th>\n",
       "      <th>k=deep</th>\n",
       "      <th>k=learning</th>\n",
       "      <th>k=NLP</th>\n",
       "      <th>k=flying</th>\n",
       "      <th>k=.</th>\n",
       "    </tr>\n",
       "  </thead>\n",
       "  <tbody>\n",
       "    <tr>\n",
       "      <th>p(k|I)</th>\n",
       "      <td>0.0</td>\n",
       "      <td>0.67</td>\n",
       "      <td>0.33</td>\n",
       "      <td>0.00</td>\n",
       "      <td>0.00</td>\n",
       "      <td>0.00</td>\n",
       "      <td>0.00</td>\n",
       "      <td>0.0</td>\n",
       "    </tr>\n",
       "    <tr>\n",
       "      <th>p(k|like)</th>\n",
       "      <td>0.5</td>\n",
       "      <td>0.00</td>\n",
       "      <td>0.00</td>\n",
       "      <td>0.25</td>\n",
       "      <td>0.00</td>\n",
       "      <td>0.25</td>\n",
       "      <td>0.00</td>\n",
       "      <td>0.0</td>\n",
       "    </tr>\n",
       "    <tr>\n",
       "      <th>p(k|enjoy)</th>\n",
       "      <td>0.5</td>\n",
       "      <td>0.00</td>\n",
       "      <td>0.00</td>\n",
       "      <td>0.00</td>\n",
       "      <td>0.00</td>\n",
       "      <td>0.00</td>\n",
       "      <td>0.50</td>\n",
       "      <td>0.0</td>\n",
       "    </tr>\n",
       "    <tr>\n",
       "      <th>p(k|deep)</th>\n",
       "      <td>0.0</td>\n",
       "      <td>0.50</td>\n",
       "      <td>0.00</td>\n",
       "      <td>0.00</td>\n",
       "      <td>0.50</td>\n",
       "      <td>0.00</td>\n",
       "      <td>0.00</td>\n",
       "      <td>0.0</td>\n",
       "    </tr>\n",
       "    <tr>\n",
       "      <th>p(k|learning)</th>\n",
       "      <td>0.0</td>\n",
       "      <td>0.00</td>\n",
       "      <td>0.00</td>\n",
       "      <td>0.50</td>\n",
       "      <td>0.00</td>\n",
       "      <td>0.00</td>\n",
       "      <td>0.00</td>\n",
       "      <td>0.5</td>\n",
       "    </tr>\n",
       "    <tr>\n",
       "      <th>p(k|NLP)</th>\n",
       "      <td>0.0</td>\n",
       "      <td>0.50</td>\n",
       "      <td>0.00</td>\n",
       "      <td>0.00</td>\n",
       "      <td>0.00</td>\n",
       "      <td>0.00</td>\n",
       "      <td>0.00</td>\n",
       "      <td>0.5</td>\n",
       "    </tr>\n",
       "    <tr>\n",
       "      <th>p(k|flying)</th>\n",
       "      <td>0.0</td>\n",
       "      <td>0.00</td>\n",
       "      <td>0.50</td>\n",
       "      <td>0.00</td>\n",
       "      <td>0.00</td>\n",
       "      <td>0.00</td>\n",
       "      <td>0.00</td>\n",
       "      <td>0.5</td>\n",
       "    </tr>\n",
       "    <tr>\n",
       "      <th>p(k|.)</th>\n",
       "      <td>0.0</td>\n",
       "      <td>0.00</td>\n",
       "      <td>0.00</td>\n",
       "      <td>0.00</td>\n",
       "      <td>0.33</td>\n",
       "      <td>0.33</td>\n",
       "      <td>0.33</td>\n",
       "      <td>0.0</td>\n",
       "    </tr>\n",
       "  </tbody>\n",
       "</table>\n",
       "</div>"
      ],
      "text/plain": [
       "               k=I  k=like  k=enjoy  k=deep  k=learning  k=NLP  k=flying  k=.\n",
       "p(k|I)         0.0    0.67     0.33    0.00        0.00   0.00      0.00  0.0\n",
       "p(k|like)      0.5    0.00     0.00    0.25        0.00   0.25      0.00  0.0\n",
       "p(k|enjoy)     0.5    0.00     0.00    0.00        0.00   0.00      0.50  0.0\n",
       "p(k|deep)      0.0    0.50     0.00    0.00        0.50   0.00      0.00  0.0\n",
       "p(k|learning)  0.0    0.00     0.00    0.50        0.00   0.00      0.00  0.5\n",
       "p(k|NLP)       0.0    0.50     0.00    0.00        0.00   0.00      0.00  0.5\n",
       "p(k|flying)    0.0    0.00     0.50    0.00        0.00   0.00      0.00  0.5\n",
       "p(k|.)         0.0    0.00     0.00    0.00        0.33   0.33      0.33  0.0"
      ]
     },
     "execution_count": 43,
     "metadata": {},
     "output_type": "execute_result"
    }
   ],
   "source": [
    "P.round(2)"
   ]
  },
  {
   "cell_type": "markdown",
   "metadata": {},
   "source": [
    "$i$ = deep, $j$ = NLP. When $k$ = learning, we expect $P_{ik}/P_{jk}$ be very lagre, vice versa. When $k$ = like, expect $P_{ik}/P_{jk}$ should be close to one."
   ]
  },
  {
   "cell_type": "code",
   "execution_count": 55,
   "metadata": {
    "collapsed": false
   },
   "outputs": [
    {
     "data": {
      "text/plain": [
       "5000000001.0"
      ]
     },
     "execution_count": 55,
     "metadata": {},
     "output_type": "execute_result"
    }
   ],
   "source": [
    "# P_ij, i=deep / j=NLP\n",
    "P.loc['p(k|deep)','k=learning'] / P.loc['p(k|NLP)','k=learning']"
   ]
  },
  {
   "cell_type": "code",
   "execution_count": 58,
   "metadata": {
    "collapsed": false
   },
   "outputs": [
    {
     "data": {
      "text/plain": [
       "1.9999999996e-10"
      ]
     },
     "execution_count": 58,
     "metadata": {},
     "output_type": "execute_result"
    }
   ],
   "source": [
    "# P_ij, i=NLP / j=deep\n",
    "P.loc['p(k|NLP)','k=learning'] / P.loc['p(k|deep)','k=learning']"
   ]
  },
  {
   "cell_type": "code",
   "execution_count": 57,
   "metadata": {
    "collapsed": false
   },
   "outputs": [
    {
     "data": {
      "text/plain": [
       "1.0"
      ]
     },
     "execution_count": 57,
     "metadata": {},
     "output_type": "execute_result"
    }
   ],
   "source": [
    "# P_ij, i=learning / j=NLP\n",
    "P.loc['p(k|deep)','k=like'] / P.loc['p(k|NLP)','k=like']"
   ]
  },
  {
   "cell_type": "markdown",
   "metadata": {},
   "source": [
    "The above argument suggests that the appropriate starting point for word vector learning should be with ratios of co-occurrence probabilities rather than the probabilities themselves.\n",
    "\n",
    "Noting that the ratio $P_{ik} /P_{jk}$ depends on three words $i$, $j$, and $k$, the most general model takes the form,\n",
    "\n",
    "$$F(w_i, w_j, \\tilde{w}_k) = \\dfrac{P_{ik} }{P_{jk} } \\cdots (1)$$\n",
    "\n",
    "* $w \\in \\Bbb{R}^d$: word vectors\n",
    "* $\\tilde{w} \\in \\Bbb{R}^d$: separate context word vectors\n",
    "\n",
    "Expect finding a linear structure function $F$ where inputs are $w_i, w_j, \\tilde{w}_k$ to encode the information present the ratio $\\dfrac{P_{ik} }{P_{jk} }$ in the word vector space.\n",
    "\n",
    "Let $F$ be $F((w_i - w_j)^T \\tilde{w}_k) = \\dfrac{P_{ik} }{P_{jk} } \\cdots (2)$, so that both side of equation can be a scalar value. Also, can try to capture the linear relation between $w_i, w_j$ and $\\tilde{w}_k$\n",
    "\n",
    "Next, note that for word-word co-occurrence matrices, the distinction between a word and a context word is arbitrary and that we are free to exchange the two roles. To do so consistently, we must not only exchange $w \\leftrightarrow \\tilde{w}$, but also $X \\leftrightarrow X^T$. + $F(X-Y) = F(X) / F(Y)$\n",
    "\n",
    "Final model must contains these.\n",
    "\n",
    "Symmetry:\n",
    "\n",
    "First, F be a **homomorphism** between groups $(\\Bbb{R}, +)$ and $(\\Bbb{R}_{>0}, \\times)$,\n",
    "\n",
    "$$F(w_i, w_j, \\tilde{w}_k) = \\dfrac{F(w_i^T \\tilde{w}_k) }{F(w_j^T \\tilde{w}_k) } \\cdots (3)$$\n",
    "    \n",
    "by equation $(2)$ is solved by, \n",
    "\n",
    "$$F(w_i^T \\tilde{w}_k) = P_{ik} = \\dfrac{X_{ik} }{X_i} \\cdots (4)$$\n",
    "\n",
    "The solution for equation $(4)$ is $F = \\exp$, so,\n",
    "\n",
    "$$w_i^T \\tilde{w}_k = \\log(P_{ik}) = \\log(X_{ik}) - \\log(X_i) \\cdots (5)$$\n",
    "\n",
    "Next, $(5)$ will be symmetric if not $\\log(X_i)$. Let's see is $\\log(P_{ik})=\\log(P_{ki})$\n",
    "\n",
    "$$\\begin{aligned} \n",
    "\\log(P_{ik}) &= \\log(X_{ik}) - \\log(X_i) \\\\\n",
    "\\log(P_{ki}) &= \\log(X_{ki}) - \\log(X_k)\n",
    "\\end{aligned}$$\n",
    "\n",
    "Obiously, term $\\log(X_i) \\neq \\log(X_k)$ makes $\\log(P_{ik}) \\neq \\log(P_{ki})$\n",
    "\n",
    "However $\\log(X_i)$ term is independent of $k$ so it can be absorbed into a bias $b_i$ for $w_i$.\n",
    "\n",
    "Finally adding an additional bias $\\tilde{b}_k$ for $\\tilde{w}_k$ restores the symmetry.\n",
    "\n",
    "$$w_i^T \\tilde{w}_k + b_i + \\tilde{b}_k = \\log(X_{ik}) \\cdots (6)$$"
   ]
  },
  {
   "cell_type": "code",
   "execution_count": null,
   "metadata": {
    "collapsed": true
   },
   "outputs": [],
   "source": []
  }
 ],
 "metadata": {
  "kernelspec": {
   "display_name": "Python [conda root]",
   "language": "python",
   "name": "conda-root-py"
  },
  "language_info": {
   "codemirror_mode": {
    "name": "ipython",
    "version": 3
   },
   "file_extension": ".py",
   "mimetype": "text/x-python",
   "name": "python",
   "nbconvert_exporter": "python",
   "pygments_lexer": "ipython3",
   "version": "3.6.0"
  }
 },
 "nbformat": 4,
 "nbformat_minor": 2
}
