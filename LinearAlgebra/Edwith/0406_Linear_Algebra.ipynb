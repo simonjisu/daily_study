{
 "cells": [
  {
   "cell_type": "markdown",
   "metadata": {},
   "source": [
    "# Basics\n",
    "\n",
    "## Concepts\n",
    "너무 쉬운건 설명을 패스하겠음\n",
    "\n",
    "* Scalar: 어떤 숫자\n",
    "* Vector: 순서가 정해져 있는 1차원 array(list)\n",
    "    * Set: 순서가 없음\n",
    "* Matrix: 2차원의 array\n",
    "    * Square\n",
    "    * Rectangular\n",
    "    * Transpose\n",
    "    * components\n",
    "\n",
    "* Column Vector: 열 벡터 (수직), 보통 암묵적으로 이걸로 표기\n",
    "$$x=\\begin{bmatrix} x_1 \\\\ x_2 \\\\ \\vdots \\\\ x_n \\end{bmatrix} \\in \\Bbb{R}^n = \\Bbb{R}^{n \\times 1}$$\n",
    "\n",
    "* Row vector: 행 벡터 (수평)\n",
    "$$x^T = {\\begin{bmatrix} x_1 \\\\ x_2 \\\\ \\vdots \\\\ x_n \\end{bmatrix} }^T = \\begin{bmatrix} x_1 & x_2 & \\cdots & x_n \\end{bmatrix} \\in \\Bbb{R}^{1 \\times n}$$\n",
    " \n",
    "## Operation\n",
    "* Addition\n",
    "* Scalar multiplication\n",
    "* Matrix multiplication: inner product, outer product\n",
    "    * 교환 법칙 성립 안함: $AB \\neq BA$\n",
    "    * Distributive: $A(B+C) = AB + AC$\n",
    "    * Associative: $A(BC)=(AB)C$\n",
    "    * Property of Transpose: $(AB)^T = B^TA^T$\n"
   ]
  },
  {
   "cell_type": "markdown",
   "metadata": {},
   "source": [
    "---"
   ]
  },
  {
   "cell_type": "markdown",
   "metadata": {
    "collapsed": true
   },
   "source": [
    "# Linear System"
   ]
  },
  {
   "cell_type": "markdown",
   "metadata": {},
   "source": [
    "## Linear Equation\n",
    "\n",
    "$$a_1x_1 + a_2x_2 + \\cdots + a_nx_n = b$$ \n",
    "\n",
    "can be written as \n",
    "$$a^T x = b$$\n",
    "$$ a = \\begin{bmatrix} a_1 \\\\ a_2 \\\\ \\vdots \\\\ a_n \\end{bmatrix}, \\quad x=\\begin{bmatrix} x_1 \\\\ x_2 \\\\ \\vdots \\\\ x_n \\end{bmatrix}$$\n"
   ]
  },
  {
   "cell_type": "markdown",
   "metadata": {},
   "source": [
    "## Linear System\n",
    "* 선형시스템 =  연립방정식\n",
    "* How to solve $Ax=b$ ? Through Inverse matrix"
   ]
  },
  {
   "cell_type": "markdown",
   "metadata": {},
   "source": [
    "* Identity Matrix\n",
    "    * $I_n$ preserves any vector $x \\in \\Bbb{R}^n$ after multiplying $x$ by $I_n$\n",
    "    $$\\forall x \\in \\Bbb{R}^n, \\quad I_n x = x$$\n",
    "* Inverse Matrix\n",
    "    * definition: For a squared matrix $A \\in \\Bbb{R}^{n \\times n}$, its inverse matrix $A^{-1}$ is defined such that\n",
    "    $$A^{-1}A=AA^{-1} = I_n$$\n",
    "    * exists: only in squared matrix (정사각행렬에서만 존재)\n",
    "\n",
    "* Non-Invertible Matrix A\n",
    "    * If A is invertible, the solution is **uniquely obtained** as \n",
    "    $$x = A^{-1}b$$\n",
    "    * 증명방법: $x$ 의 해가 $A^{-1}b$ 일때, 또다른 해 $x^{*}$ 가 존재한다고 하면? $x^{*} = x$ 와 같다는 것을 증명 "
   ]
  },
  {
   "cell_type": "markdown",
   "metadata": {},
   "source": [
    " If $x^{*}$ is a another solution of linear equation $Ax=b$, it will satisfy $Ax^{*}=b$ , so we multiply $A^{-1}$ by both of equation $Ax^{*}=b$, then\n",
    "\n",
    "$$\\begin{aligned}\n",
    "A^{-1}Ax^{*} &= A^{-1}b \\\\\n",
    "Ix^{*} &= A^{-1}b \\\\\n",
    "x^{*} &= A^{-1}b \\\\\n",
    "x^{*} &= x\n",
    "\\end{aligned}$$\n",
    "\n",
    "so, there is only unique solution"
   ]
  },
  {
   "cell_type": "markdown",
   "metadata": {},
   "source": [
    "* Determinant: https://ko.wikipedia.org/wiki/%ED%96%89%EB%A0%AC%EC%8B%9D\n",
    "    * if determinant(det) = 0, 역행렬 존재하지 않음\n",
    "* How to get Inverse matrix?\n",
    "    * gaussian elimination(가우시안 소거법): https://ko.wikipedia.org/wiki/%EA%B0%80%EC%9A%B0%EC%8A%A4_%EC%86%8C%EA%B1%B0%EB%B2%95\n",
    "    * solve Inverse matrix: https://ko.wikipedia.org/wiki/%EA%B0%80%EC%97%AD%ED%96%89%EB%A0%AC"
   ]
  },
  {
   "cell_type": "markdown",
   "metadata": {},
   "source": [
    "* if A is non-invertible, $Ax=b$ will have either **no solution** or **infinitely many solution**\n",
    "\n",
    "* How about Rectangular matrix? 직사각행렬은?\n",
    "    * 어떤 행렬 C 왼쪽에서 직사각행렬 B 를 곱해서 I 가 나왔다면, 오른쪽에 곱하면 I가 나올수 없다. \n",
    "    * For Rectangular matrix $B \\in \\Bbb{R}^{m \\times n}$ , $CB = I$ doesn't means $BC \\neq I$\n",
    "    * $Bx=b$ \n",
    "        * m = # of equations, n = #of variables\n",
    "        * size: $B$ = $m \\times n$, $x$ = $n$ \n",
    "        * if m < n: 변수가 식보다 많을 때는 해가 무수히 많은 경우 (under-determined system)\n",
    "        * if m > n: 식이 변수보다 많을 때는 해가 없는 경우 (over-determinded system)\n",
    "\n",
    "모든 문제를 어떤 방정식을 세울 수 있다. 다만 해결 할 수 있는지는 해가 있는가 없는가를 살펴봐야함.\n",
    "\n",
    "OLS 도 하나의 방정식을 푸는 방법중에 하나다. 모든 방정식을 만족시키지 않지만, 최소한 근사치를 구하는 방법임 (in under-determined system)"
   ]
  },
  {
   "cell_type": "code",
   "execution_count": null,
   "metadata": {
    "collapsed": true
   },
   "outputs": [],
   "source": []
  }
 ],
 "metadata": {
  "kernelspec": {
   "display_name": "Python [conda root]",
   "language": "python",
   "name": "conda-root-py"
  },
  "language_info": {
   "codemirror_mode": {
    "name": "ipython",
    "version": 3
   },
   "file_extension": ".py",
   "mimetype": "text/x-python",
   "name": "python",
   "nbconvert_exporter": "python",
   "pygments_lexer": "ipython3",
   "version": "3.6.0"
  }
 },
 "nbformat": 4,
 "nbformat_minor": 2
}
