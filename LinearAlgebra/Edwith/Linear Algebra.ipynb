{
 "cells": [
  {
   "cell_type": "markdown",
   "metadata": {},
   "source": [
    "## Basics\n",
    "\n",
    "* Scalar: 어떤 숫자\n",
    "* Vector: 순서가 정해져 있는 1차원 array(list)\n",
    "    * Set: 순서가 없음\n",
    "* Matrix: 2차원의 array\n",
    "\n",
    "\n",
    "* Column Vector: 열 벡터 (수직), 보통 암묵적으로 이걸로 표기\n",
    "$$x=\\begin{bmatrix} x_1 \\\\ x_2 \\\\ \\vdots \\\\ x_n \\end{bmatrix} \\in \\Bbb{R}^n = \\Bbb{R}^{n \\times 1}$$\n",
    "\n",
    "* Row vector: 행 벡터 (수평)\n",
    "$$x^T = {\\begin{bmatrix} x_1 \\\\ x_2 \\\\ \\vdots \\\\ x_n \\end{bmatrix} }^T = \\begin{bmatrix} x_1 & x_2 & \\cdots & x_n \\end{bmatrix} \\in \\Bbb{R}^{1 \\times n}$$\n",
    " "
   ]
  },
  {
   "cell_type": "code",
   "execution_count": null,
   "metadata": {
    "collapsed": true
   },
   "outputs": [],
   "source": []
  }
 ],
 "metadata": {
  "kernelspec": {
   "display_name": "Python [conda root]",
   "language": "python",
   "name": "conda-root-py"
  },
  "language_info": {
   "codemirror_mode": {
    "name": "ipython",
    "version": 3
   },
   "file_extension": ".py",
   "mimetype": "text/x-python",
   "name": "python",
   "nbconvert_exporter": "python",
   "pygments_lexer": "ipython3",
   "version": "3.6.0"
  }
 },
 "nbformat": 4,
 "nbformat_minor": 2
}
